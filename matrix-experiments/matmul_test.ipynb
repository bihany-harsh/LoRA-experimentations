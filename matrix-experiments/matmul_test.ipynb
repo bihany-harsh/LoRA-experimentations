{
 "cells": [
  {
   "cell_type": "code",
   "execution_count": null,
   "metadata": {},
   "outputs": [],
   "source": [
    "import torch"
   ]
  },
  {
   "cell_type": "code",
   "execution_count": null,
   "metadata": {},
   "outputs": [],
   "source": [
    "N = 20\n",
    "M = 10"
   ]
  },
  {
   "cell_type": "code",
   "execution_count": null,
   "metadata": {},
   "outputs": [],
   "source": [
    "W1 = torch.randn([N,M])\n",
    "W2 = W1 + torch.randn([N,M]) / 10"
   ]
  },
  {
   "cell_type": "code",
   "execution_count": null,
   "metadata": {},
   "outputs": [],
   "source": [
    "A_pre = torch.nn.Parameter(torch.eye(N))\n",
    "A_post = torch.nn.Parameter(torch.eye(M))"
   ]
  },
  {
   "cell_type": "markdown",
   "metadata": {},
   "source": [
    "### A_pre"
   ]
  },
  {
   "cell_type": "code",
   "execution_count": null,
   "metadata": {},
   "outputs": [],
   "source": [
    "optimiser = torch.optim.Adam([A_pre], lr = 1e-3)\n",
    "criteria = torch.nn.MSELoss()"
   ]
  },
  {
   "cell_type": "code",
   "execution_count": null,
   "metadata": {},
   "outputs": [],
   "source": [
    "for i in range(10000):\n",
    "    optimiser.zero_grad()\n",
    "    loss = criteria(W2, A_pre @ W1)\n",
    "    loss.backward()\n",
    "    optimiser.step()\n",
    "    if i%1000==0:\n",
    "        print(loss)"
   ]
  },
  {
   "cell_type": "markdown",
   "metadata": {},
   "source": [
    "### A_post"
   ]
  },
  {
   "cell_type": "code",
   "execution_count": null,
   "metadata": {},
   "outputs": [],
   "source": [
    "optimiser = torch.optim.Adam([A_post], lr = 1e-3)\n",
    "criteria = torch.nn.MSELoss()"
   ]
  },
  {
   "cell_type": "code",
   "execution_count": null,
   "metadata": {},
   "outputs": [],
   "source": [
    "for i in range(10000):\n",
    "    optimiser.zero_grad()\n",
    "    loss = criteria(W2, W1 @ A_post)\n",
    "    loss.backward()\n",
    "    optimiser.step()\n",
    "    if i%1000==0:\n",
    "        print(loss)"
   ]
  },
  {
   "cell_type": "code",
   "execution_count": null,
   "metadata": {},
   "outputs": [],
   "source": [
    "def init_lora_matrices(A, B):\n",
    "    N,R = A.shape\n",
    "    A.requires_grad = False\n",
    "    B.requires_grad = False\n",
    "    B[0][0] = 1\n",
    "    A[:,0] = 1\n",
    "    A.requires_grad = True\n",
    "    B.requires_grad = True"
   ]
  },
  {
   "cell_type": "code",
   "execution_count": null,
   "metadata": {},
   "outputs": [],
   "source": [
    "shift_indices = None\n",
    "\n",
    "def set_shift_indices(r, c):\n",
    "    global shift_indices\n",
    "    shift_indices = torch.zeros([r,c], dtype=torch.int64)\n",
    "    for i in range(r):\n",
    "        for j in range(c):\n",
    "            shift_indices[i][j] = (j - i)%c\n",
    "\n",
    "def shift(M):\n",
    "    n_rows, n_cols = M.shape\n",
    "    global shift_indices\n",
    "    return torch.gather(M, 1, shift_indices)"
   ]
  },
  {
   "cell_type": "markdown",
   "metadata": {},
   "source": [
    "### A_post_r"
   ]
  },
  {
   "cell_type": "code",
   "execution_count": null,
   "metadata": {},
   "outputs": [],
   "source": [
    "R = 1\n",
    "while R <= N:\n",
    "    print(\"#\"*5 + \" Rank Post \" + str(R) + \" \" + \"#\"*5)\n",
    "    A1 = torch.nn.Parameter(torch.randn([N,R]))\n",
    "    B1 = torch.nn.Parameter(torch.zeros([R,N]))\n",
    "    init_lora_matrices(A1,B1)\n",
    "    optimiser = torch.optim.Adam([A1, B1], lr = 1e-3)\n",
    "    criteria = torch.nn.MSELoss()\n",
    "    for i in range(10000):\n",
    "        optimiser.zero_grad()\n",
    "        loss = criteria(W2, shift(A1 @ B1) @ W1)\n",
    "        loss.backward()\n",
    "        optimiser.step()\n",
    "    print(loss)\n",
    "    R=R*2"
   ]
  },
  {
   "cell_type": "markdown",
   "metadata": {},
   "source": [
    "### A_pre_r"
   ]
  },
  {
   "cell_type": "code",
   "execution_count": null,
   "metadata": {},
   "outputs": [],
   "source": [
    "R = 1\n",
    "while R <= M:\n",
    "    print(\"#\"*5 + \" Rank Pre \" + str(R) + \" \" + \"#\"*5)\n",
    "    A1 = torch.nn.Parameter(torch.randn([M,R]))\n",
    "    B1 = torch.nn.Parameter(torch.zeros([R,M]))\n",
    "    init_lora_matrices(A1,B1)\n",
    "    optimiser = torch.optim.Adam([A1, B1], lr = 1e-3)\n",
    "    criteria = torch.nn.MSELoss()\n",
    "    for i in range(10000):\n",
    "        optimiser.zero_grad()\n",
    "        loss = criteria(W2, W1 @ shift(A1 @ B1))\n",
    "        loss.backward()\n",
    "        optimiser.step()\n",
    "    print(loss)\n",
    "    R=R*2"
   ]
  },
  {
   "cell_type": "markdown",
   "metadata": {},
   "source": [
    "### LoRA"
   ]
  },
  {
   "cell_type": "code",
   "execution_count": null,
   "metadata": {},
   "outputs": [],
   "source": [
    "R = 1\n",
    "while R <= M:\n",
    "    print(\"#\"*5 + \" LoRA \" + str(R) + \" \" + \"#\"*5)\n",
    "    A1 = torch.nn.Parameter(torch.randn([N,R]))\n",
    "    B1 = torch.nn.Parameter(torch.zeros([R,M]))\n",
    "    optimiser = torch.optim.Adam([A1, B1], lr = 1e-3)\n",
    "    criteria = torch.nn.MSELoss()\n",
    "    for i in range(10000):\n",
    "        optimiser.zero_grad()\n",
    "        loss = criteria(W2, W1 + A1 @ B1)\n",
    "        loss.backward()\n",
    "        optimiser.step()\n",
    "    print(loss)\n",
    "    R=R*2"
   ]
  },
  {
   "cell_type": "markdown",
   "metadata": {},
   "source": [
    "### SLoRA"
   ]
  },
  {
   "cell_type": "code",
   "execution_count": null,
   "metadata": {},
   "outputs": [],
   "source": [
    "R = 1\n",
    "while R <= M:\n",
    "    print(\"#\"*5 + \" SLoRA \" + str(R) + \" \" + \"#\"*5)\n",
    "    A1 = torch.nn.Parameter(torch.randn([N,R]))\n",
    "    B1 = torch.nn.Parameter(torch.zeros([R,M]))\n",
    "    set_shift_indices(N,M)\n",
    "    optimiser = torch.optim.Adam([A1, B1], lr = 1e-3)\n",
    "    criteria = torch.nn.MSELoss()\n",
    "    for i in range(10000):\n",
    "        optimiser.zero_grad()\n",
    "        loss = criteria(W2, W1 + shift(A1 @ B1))\n",
    "        loss.backward()\n",
    "        optimiser.step()\n",
    "    print(loss)\n",
    "    R=R*2"
   ]
  },
  {
   "cell_type": "code",
   "execution_count": null,
   "metadata": {},
   "outputs": [],
   "source": [
    "W1 = torch.randn([N,M])\n",
    "W2 = W1 + torch.randn([N,M]) / 10"
   ]
  },
  {
   "cell_type": "code",
   "execution_count": null,
   "metadata": {},
   "outputs": [],
   "source": [
    "N = 128\n",
    "M = 512"
   ]
  },
  {
   "cell_type": "code",
   "execution_count": null,
   "metadata": {},
   "outputs": [],
   "source": [
    "torch.set_default_device('cuda')"
   ]
  },
  {
   "cell_type": "code",
   "execution_count": null,
   "metadata": {},
   "outputs": [],
   "source": []
  }
 ],
 "metadata": {
  "kernelspec": {
   "display_name": "Python 3",
   "language": "python",
   "name": "python3"
  },
  "language_info": {
   "codemirror_mode": {
    "name": "ipython",
    "version": 3
   },
   "file_extension": ".py",
   "mimetype": "text/x-python",
   "name": "python",
   "nbconvert_exporter": "python",
   "pygments_lexer": "ipython3",
   "version": "3.11.0"
  }
 },
 "nbformat": 4,
 "nbformat_minor": 2
}
